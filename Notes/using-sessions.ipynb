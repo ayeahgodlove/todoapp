{
 "cells": [
  {
   "cell_type": "markdown",
   "metadata": {},
   "source": [
    "### Using sessions in controllers\n",
    "- Commits can succeed or fail.\n",
    "- On fail, we want to rollback the session to avoid potential implicit commits done by the database on closing a connection.\n",
    "- close connections at the end of every session is used in a controller, to return the connection back to the connection pool."
   ]
  },
  {
   "cell_type": "code",
   "execution_count": null,
   "metadata": {},
   "outputs": [],
   "source": [
    "import sys\n",
    "\n",
    "try: \n",
    "    todo = Todo(description=description)\n",
    "    db.session.add(todo)\n",
    "    db.session.commit()\n",
    "\n",
    "except:\n",
    "    db.session.rollback()\n",
    "    error=True\n",
    "    print(sys.exc_info())\n",
    "finally: \n",
    "    db.session.close()"
   ]
  },
  {
   "cell_type": "code",
   "execution_count": null,
   "metadata": {},
   "outputs": [],
   "source": []
  }
 ],
 "metadata": {
  "language_info": {
   "name": "python"
  },
  "orig_nbformat": 4
 },
 "nbformat": 4,
 "nbformat_minor": 2
}

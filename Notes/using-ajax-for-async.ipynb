{
 "cells": [
  {
   "cell_type": "markdown",
   "metadata": {},
   "source": [
    "### Using AJAX to send data to flask\n",
    "\n",
    "Using AJAX to send data asynchronously\n",
    "\n",
    "Async requests (AJAX requests) use one of two methods:\n",
    "- XMLHttpRequest\n",
    "- Fetch (modern way)"
   ]
  },
  {
   "cell_type": "markdown",
   "metadata": {},
   "source": [
    "#### Using XMLHttpRequest"
   ]
  },
  {
   "cell_type": "code",
   "execution_count": null,
   "metadata": {
    "vscode": {
     "languageId": "javascript"
    }
   },
   "outputs": [],
   "source": [
    "var xhttp = new XMLHttpRequest();\n",
    "description = document.getElementById(\"description\").value;\n",
    "xhttp.open(\"GET\", \"/todos/create?description=\" + description);\n",
    "\n",
    "xhttp.send();\n",
    "\n",
    "xhttp.onreadystatechange = function() {\n",
    "    if(this.readState === 4 && this.status === 200) {\n",
    "        //on successful response\n",
    "        console.log(xhttp.responseText);\n",
    "    }\n",
    "}"
   ]
  },
  {
   "cell_type": "markdown",
   "metadata": {},
   "source": [
    "#### Using Fetch API"
   ]
  },
  {
   "cell_type": "code",
   "execution_count": null,
   "metadata": {
    "vscode": {
     "languageId": "javascript"
    }
   },
   "outputs": [],
   "source": [
    "fetch('/url-route', {\n",
    "    method: 'POST',\n",
    "    body: JSON.stringify({\n",
    "        'description': \"some description\"\n",
    "    }),\n",
    "    headers: {\n",
    "        'Content-Type': 'application/json'\n",
    "    }\n",
    "})"
   ]
  }
 ],
 "metadata": {
  "language_info": {
   "name": "python"
  },
  "orig_nbformat": 4
 },
 "nbformat": 4,
 "nbformat_minor": 2
}

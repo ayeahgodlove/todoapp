{
 "cells": [
  {
   "cell_type": "markdown",
   "metadata": {},
   "source": [
    "### Migrations\n",
    "Migrations deal with how we manage modifications to our data schema, over time.\n",
    "Mistakes to our database schema are very expensive to make. The entire app can go down, so we want to\n",
    "- quickly roll back changes, and\n",
    "- test changes before we make them\n",
    "A Migration is a file that keeps track of changes to our database schema (structure of our database).\n",
    "- Offers version control on our schema.\n",
    "\n",
    "<hr>\n",
    "**Upgrades and rollbacks**\n",
    "\n",
    "- Migrations stack together in order to form the latest version of our database schema\n",
    "- We can upgrade our database schema by applying migrations\n",
    "- We can roll back our database schema to a former version by reverting migrations that we applied\n",
    "\n",
    "### Migration library for Flask + SQLAlchemy\n",
    "- **Flask Migrate**\n",
    "    It is a migration manager for migrating SQLALchemy-based database changes.\n",
    "    It uses a library called Alembic underneath the hood.\n",
    "\n",
    "- **Flask Script**\n",
    "    It lets us run migration scripts we define from the terminal\n",
    "\n",
    "<hr />\n",
    "Have the documentation available as you work. Links:\n",
    "\n",
    "- [Flask-Migrate documentation](https://flask-migrate.readthedocs.io/en/latest/)\n",
    "- [Alembic documentation](https://alembic.sqlalchemy.org/en/latest/)\n",
    "\n",
    "run: ```pipenv install Flask-Migrate```\n",
    "configure: \n",
    "```\n",
    "from flask_migrate import Migrate\n",
    "migrate = Migrate(app, db)\n",
    "```\n",
    "run on terminal: ```flask db init```\n",
    "and: ```fask db migrate```\n",
    "This detects the model changes to be made, and creates a migration file with upgrade and downgrade logic setup\n",
    "\n",
    "```flask db upgrade```\n",
    "Runs the upgrade command in the migration file to apply the migration\n",
    "\n",
    "```flask db downgrade```\n",
    "Runs the downgrade command in the migration file to apply the migration"
   ]
  },
  {
   "cell_type": "markdown",
   "metadata": {},
   "source": []
  }
 ],
 "metadata": {
  "language_info": {
   "name": "python"
  },
  "orig_nbformat": 4
 },
 "nbformat": 4,
 "nbformat_minor": 2
}
